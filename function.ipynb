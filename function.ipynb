{
  "nbformat": 4,
  "nbformat_minor": 0,
  "metadata": {
    "colab": {
      "provenance": []
    },
    "kernelspec": {
      "name": "python3",
      "display_name": "Python 3"
    },
    "language_info": {
      "name": "python"
    }
  },
  "cells": [
    {
      "cell_type": "markdown",
      "source": [
        "# THEORY **PART**"
      ],
      "metadata": {
        "id": "nD7dxNZrYj7r"
      }
    },
    {
      "cell_type": "markdown",
      "source": [
        "1. What is the difference between a function and a method in Python?\n",
        "\n",
        "= Functions: A function is a standalone block of code defined using the def keyword.\n",
        "ex-\n",
        "def greet(name):\n",
        "\n",
        "       return(f\"hi,{name}\")\n",
        "    print(greet(\"saikat\"))\n",
        "\n",
        "Methods: A method is a function that is defined inside a class and is associated with an object (an instance of the class).\n",
        "Example:class Person:\n",
        "             def greet(self,name):\n",
        "                 return f\"hello,{name}!\"\n",
        "        person=person()\n",
        "        print(person.greet(\"saikat\"))\n",
        "\n",
        "you call a function directly by its name,passing any required argument. ex-greet(\"name\")  \n",
        "\n",
        "you call a method using dot notation on an object.\n",
        "ex-person.greet(\"saikat\")"
      ],
      "metadata": {
        "id": "--zeeUYLYu5t"
      }
    },
    {
      "cell_type": "markdown",
      "source": [
        "2. Explain the concept of function arguments and parameters in Python.\n",
        "\n",
        "= Parameters\n",
        "      : Parameters are the variables listed in a function’s definition. They act as placeholders for the values that will be passed to the function when it is called.\n",
        "      * Parameters define what kind of input the function expects and allow the function to work with those inputs.Where\n",
        "      * Inside the parentheses of a function definition.\n",
        "      ex:def greet(name, greeting):\n",
        "        'name' and 'greeting' are parameters\n",
        "  Arguments\n",
        "      : Arguments are the actual values or expressions you pass to a function when you call it. These values are assigned to the corresponding parameters.\n",
        "      * Arguments provide the specific data that the function will use to perform its task.\n",
        "      * Inside the parentheses when calling a function.\n",
        "      ex:print(greet(\"saikat\", \"Hello\"))  # \"saikat\" and \"Hello\" are argumentsHere, \"Alice\" is the argument for the name parameter, and \"Hello\" is the argument for the greeting parameter. The output will be: Hello, saikat!"
      ],
      "metadata": {
        "id": "tGtJt2sBYvv7"
      }
    },
    {
      "cell_type": "markdown",
      "source": [
        "3. What are the different ways to define and call a function in Python?\n",
        "\n",
        "= Defining: Functions can be simple (def), lambda, nested, recursive, decorated, or generators, with options for default or variable-length parameters.\n",
        "Calling : You can call functions with positional or keyword arguments, unpack collections, or iterate over generators, depending on how they’re defined.\n",
        " * Each method has its own use case:\n",
        "Use def for general-purpose functions.Use lambda for quick, one-off operations.Use generators for memory-efficient iteration.Use decorators to extend functionality.Let me know if you’d like deeper examples or clarification on any of these!"
      ],
      "metadata": {
        "id": "gWNYE8PVfnju"
      }
    },
    {
      "cell_type": "markdown",
      "source": [
        "4. What is the purpose of the `return` statement in a Python function?\n",
        "\n",
        "= The return statement:Specifies what a function outputs (a value, multiple values, or None).Terminates the function’s execution.Enables the function to communicate results back to the caller for further use.Without return, a function can still perform actions (like printing), but it won’t provide a usable result."
      ],
      "metadata": {
        "id": "Gq9DGGmRgq_h"
      }
    },
    {
      "cell_type": "markdown",
      "source": [
        "5. What are iterators in Python and how do they differ from iterables?\n",
        "\n",
        "= In Python, iterators and iterables are closely related concepts tied to the idea of iteration (looping over a sequence of items), but they are distinct in their roles and behaviors.\n",
        "\n",
        "Memory Efficiency: Iterators enable lazy evaluation, generating items one at a time (e.g., in generators), which is great for large datasets. Iterables like lists load everything into memory upfront.\n",
        "Flexibility: Iterables can be reused; iterators provide fine-grained control over iteration.\n",
        " Iterable: \"I can be looped over\"\n",
        " Iterator: \"I’ll handle the looping, step by step.\""
      ],
      "metadata": {
        "id": "uKtq5cpTgqmi"
      }
    },
    {
      "cell_type": "markdown",
      "source": [
        "6. Explain the concept of generators in Python and how they are defined.\n",
        "\n",
        "= Definition: A generator is a special type of iterator that yields values one at a time using the yield keyword instead of returning them all at once with return. It \"pauses\" execution between yields, preserving its state until the next value is requested.\n",
        "\n",
        "** define generators\n",
        "The most common way to define a generator is with a function that uses yield instead of return.Syntax: Use def as usual, but include one or more yield statements.\n",
        "\n",
        "ex-\n",
        " def even_numbers(limit):\n",
        "    for i in range(0, limit, 2):\n",
        "        yield i\n",
        "\n",
        "for num in even_numbers(6):\n",
        "    print(num)"
      ],
      "metadata": {
        "id": "X7u46w3shM87"
      }
    },
    {
      "cell_type": "markdown",
      "source": [
        "7. What are the advantages of using generators over regular functions?\n",
        "\n",
        "= Generators offer several advantages over regular functions, particularly when working with large datasets or sequences. Here are some key benefits:\n",
        "\n",
        "1.  Generators produce values one at a time and do not store the entire sequence in memory. This makes them ideal for handling large data streams or infinite sequences without running out of memory\n",
        "\n",
        "2.  Since generators yield items on demand, they often result in faster code execution for operations like iterative processing or streaming large files.\n",
        "\n",
        "3.  Generators allow for cleaner and more readable code compared to manually implementing an iterator class. The `yield` keyword enables you to pause and resume execution seamlessly.\n",
        "\n",
        "4.  Generators can represent infinite sequences (e.g., Fibonacci numbers)"
      ],
      "metadata": {
        "id": "738f3wVsiZOY"
      }
    },
    {
      "cell_type": "markdown",
      "source": [
        "8. What is a lambda function in Python and when is it typically used?\n",
        "\n",
        "= A lambda function in Python is a compact, anonymous function that is defined using the lambda keyword. It allows you to create functions without naming them, and they can have any number of input arguments but only a single expression as their output.\n",
        "\n",
        "ex- lambda arguments: expression\n"
      ],
      "metadata": {
        "id": "OMT3_8nujrGZ"
      }
    },
    {
      "cell_type": "markdown",
      "source": [
        "9. Explain the purpose and usage of the `map()` function in Python.\n",
        "\n",
        "=The map() function in Python is used to apply a given function to each item in an iterable (like a list, tuple, etc.) and produce a new iterable with the results. It's particularly useful for transforming data in a concise and functional way.\n",
        "\n",
        "Purpose of map():\n",
        "To perform operations on each element of an iterable without explicitly writing a loop.\n",
        "\n",
        "To make your code cleaner and more readable, especially for simple transformations.\n",
        "map(function, iterable)\n",
        "function: The function to apply to each element of the iterable.\n",
        "\n",
        "iterable: The sequence you want to process\n",
        "\n",
        " using of map()\n",
        " nums = [1, 2, 3, 4]\n",
        "squared = map(lambda x: x**2, nums)\n",
        "print(list(squared))  # Output: [1, 4, 9, 16]\n",
        " here, each number in nums is squared and the results are stored in a new iterable.\n"
      ],
      "metadata": {
        "id": "n-ki7Nw7lLk7"
      }
    },
    {
      "cell_type": "markdown",
      "source": [
        "10. What is the difference between `map()`, `reduce()`, and `filter()` functions in Python?\n",
        "\n",
        "=  map()\n",
        "Purpose: Applies a given function to each item in an iterable and returns a new iterable with the results.\n",
        "\n",
        "Key Feature: Transforms data by modifying all elements of the input.\n",
        "\n",
        "nums = [1, 2, 3, 4]\n",
        "squared = map(lambda x: x**2, nums)\n",
        "print(list(squared))  # Output: [1, 4, 9, 16]\n",
        "\n",
        "filter()\n",
        "Purpose: Filters items in an iterable based on a condition defined by the function. Only elements that return True for the condition are included in the output.\n",
        "\n",
        "Key Feature: Selects a subset of elements based on a criterion.\n",
        "\n",
        "nums = [1, 2, 3, 4]\n",
        "even_nums = filter(lambda x: x % 2 == 0, nums)\n",
        "print(list(even_nums))  # Output: [2, 4]\n",
        "\n",
        "reduce()\n",
        "Purpose: Performs cumulative operations on elements of an iterable, reducing it to a single value. This function is part of the functools module.\n",
        "\n",
        "Key Feature: Aggregates or combines all elements into one result.\n",
        "from functools import reduce\n",
        "\n",
        "nums = [1, 2, 3, 4]\n",
        "total = reduce(lambda x, y: x + y, nums)\n",
        "print(total)  # Output: 10\n"
      ],
      "metadata": {
        "id": "RK0-TOlemL_A"
      }
    },
    {
      "cell_type": "markdown",
      "source": [
        "11. Using pen & Paper write the internal mechanism for sum operation using  reduce function on this given\n",
        "list:[47,11,42,13];\n",
        "\n",
        "from functools import reduce\n",
        "\n",
        "list = [47, 11, 42, 13]\n",
        "sum = reduce(lambda x, y: x + y, list)\n",
        "print(sum)\n"
      ],
      "metadata": {
        "id": "xsQp0SsMnWJR"
      }
    },
    {
      "cell_type": "markdown",
      "source": [
        "# ***practical***"
      ],
      "metadata": {
        "id": "amfYW0p9pSUZ"
      }
    },
    {
      "cell_type": "code",
      "source": [
        "# 1. Write a Python function that takes a list of numbers as input and returns the sum of all even numbers in\n",
        "# the list.\n",
        "\n",
        "#1\n",
        "def sum_of_even_numbers(numbers):\n",
        "    total = 0\n",
        "    for num in numbers:\n",
        "        if num % 2 == 0:\n",
        "            total += num\n",
        "    return total\n",
        "\n",
        "# Example usage:\n",
        "numbers_list = [1, 2, 3, 4, 5, 10]\n",
        "print(\"Sum of even numbers:\", sum_of_even_numbers(numbers_list))\n"
      ],
      "metadata": {
        "colab": {
          "base_uri": "https://localhost:8080/"
        },
        "id": "-EAMBmgCo92F",
        "outputId": "b6899e93-41ef-4bbe-958e-2e6d85df8f93"
      },
      "execution_count": 10,
      "outputs": [
        {
          "output_type": "stream",
          "name": "stdout",
          "text": [
            "Sum of even numbers: 16\n"
          ]
        }
      ]
    },
    {
      "cell_type": "code",
      "source": [
        "# 2. Create a Python function that accepts a string and returns the reverse of that string.\n",
        "\n",
        "def reverse_string(input_string):\n",
        "    # Use Python slicing to reverse the string\n",
        "    return input_string[::-1]\n",
        "\n",
        "# Example usage:\n",
        "example = \"saikat\"\n",
        "print(\"Reversed string:\", reverse_string(example))\n"
      ],
      "metadata": {
        "colab": {
          "base_uri": "https://localhost:8080/"
        },
        "id": "0ckVXPADp2y0",
        "outputId": "5c401509-7e82-4675-8594-eeb471f0529a"
      },
      "execution_count": 11,
      "outputs": [
        {
          "output_type": "stream",
          "name": "stdout",
          "text": [
            "Reversed string: takias\n"
          ]
        }
      ]
    },
    {
      "cell_type": "code",
      "source": [
        "# 3. Implement a Python function that takes a list of integers and returns a new list containing the squares of\n",
        "# each number.\n",
        "\n",
        "def square_numbers(numbers):\n",
        "    # Use a list comprehension to generate a new list with squared values\n",
        "    return [num ** 2 for num in numbers]\n",
        "\n",
        "# Example usage:\n",
        "numbers_list = [1, 2, 3, 4, 5]\n",
        "print(\"Squared numbers:\", square_numbers(numbers_list))\n",
        "\n"
      ],
      "metadata": {
        "id": "Jfmx2VCXqDN8"
      },
      "execution_count": null,
      "outputs": []
    },
    {
      "cell_type": "code",
      "source": [
        "# 4. Write a Python function that checks if a given number is prime or not from 1 to 200.\n",
        "\n",
        "def is_prime(number):\n",
        "\n",
        "    if number <= 1:\n",
        "        return False\n",
        "\n",
        "    for i in range(2, int(number ** 0.5) + 1):\n",
        "        if number % i == 0:\n",
        "            return False\n",
        "    return True\n",
        "\n",
        "# Example usage:\n",
        "for num in range(1, 201):\n",
        "    if is_prime(num):\n",
        "        print(f\"{num} is a prime number.\")\n",
        "    else:\n",
        "        print(f\"{num} is not a prime number.\")\n"
      ],
      "metadata": {
        "colab": {
          "base_uri": "https://localhost:8080/"
        },
        "id": "M5nOUpLsqVN6",
        "outputId": "a1969614-a929-40ed-fee9-0d121625a01a"
      },
      "execution_count": 12,
      "outputs": [
        {
          "output_type": "stream",
          "name": "stdout",
          "text": [
            "1 is not a prime number.\n",
            "2 is a prime number.\n",
            "3 is a prime number.\n",
            "4 is not a prime number.\n",
            "5 is a prime number.\n",
            "6 is not a prime number.\n",
            "7 is a prime number.\n",
            "8 is not a prime number.\n",
            "9 is not a prime number.\n",
            "10 is not a prime number.\n",
            "11 is a prime number.\n",
            "12 is not a prime number.\n",
            "13 is a prime number.\n",
            "14 is not a prime number.\n",
            "15 is not a prime number.\n",
            "16 is not a prime number.\n",
            "17 is a prime number.\n",
            "18 is not a prime number.\n",
            "19 is a prime number.\n",
            "20 is not a prime number.\n",
            "21 is not a prime number.\n",
            "22 is not a prime number.\n",
            "23 is a prime number.\n",
            "24 is not a prime number.\n",
            "25 is not a prime number.\n",
            "26 is not a prime number.\n",
            "27 is not a prime number.\n",
            "28 is not a prime number.\n",
            "29 is a prime number.\n",
            "30 is not a prime number.\n",
            "31 is a prime number.\n",
            "32 is not a prime number.\n",
            "33 is not a prime number.\n",
            "34 is not a prime number.\n",
            "35 is not a prime number.\n",
            "36 is not a prime number.\n",
            "37 is a prime number.\n",
            "38 is not a prime number.\n",
            "39 is not a prime number.\n",
            "40 is not a prime number.\n",
            "41 is a prime number.\n",
            "42 is not a prime number.\n",
            "43 is a prime number.\n",
            "44 is not a prime number.\n",
            "45 is not a prime number.\n",
            "46 is not a prime number.\n",
            "47 is a prime number.\n",
            "48 is not a prime number.\n",
            "49 is not a prime number.\n",
            "50 is not a prime number.\n",
            "51 is not a prime number.\n",
            "52 is not a prime number.\n",
            "53 is a prime number.\n",
            "54 is not a prime number.\n",
            "55 is not a prime number.\n",
            "56 is not a prime number.\n",
            "57 is not a prime number.\n",
            "58 is not a prime number.\n",
            "59 is a prime number.\n",
            "60 is not a prime number.\n",
            "61 is a prime number.\n",
            "62 is not a prime number.\n",
            "63 is not a prime number.\n",
            "64 is not a prime number.\n",
            "65 is not a prime number.\n",
            "66 is not a prime number.\n",
            "67 is a prime number.\n",
            "68 is not a prime number.\n",
            "69 is not a prime number.\n",
            "70 is not a prime number.\n",
            "71 is a prime number.\n",
            "72 is not a prime number.\n",
            "73 is a prime number.\n",
            "74 is not a prime number.\n",
            "75 is not a prime number.\n",
            "76 is not a prime number.\n",
            "77 is not a prime number.\n",
            "78 is not a prime number.\n",
            "79 is a prime number.\n",
            "80 is not a prime number.\n",
            "81 is not a prime number.\n",
            "82 is not a prime number.\n",
            "83 is a prime number.\n",
            "84 is not a prime number.\n",
            "85 is not a prime number.\n",
            "86 is not a prime number.\n",
            "87 is not a prime number.\n",
            "88 is not a prime number.\n",
            "89 is a prime number.\n",
            "90 is not a prime number.\n",
            "91 is not a prime number.\n",
            "92 is not a prime number.\n",
            "93 is not a prime number.\n",
            "94 is not a prime number.\n",
            "95 is not a prime number.\n",
            "96 is not a prime number.\n",
            "97 is a prime number.\n",
            "98 is not a prime number.\n",
            "99 is not a prime number.\n",
            "100 is not a prime number.\n",
            "101 is a prime number.\n",
            "102 is not a prime number.\n",
            "103 is a prime number.\n",
            "104 is not a prime number.\n",
            "105 is not a prime number.\n",
            "106 is not a prime number.\n",
            "107 is a prime number.\n",
            "108 is not a prime number.\n",
            "109 is a prime number.\n",
            "110 is not a prime number.\n",
            "111 is not a prime number.\n",
            "112 is not a prime number.\n",
            "113 is a prime number.\n",
            "114 is not a prime number.\n",
            "115 is not a prime number.\n",
            "116 is not a prime number.\n",
            "117 is not a prime number.\n",
            "118 is not a prime number.\n",
            "119 is not a prime number.\n",
            "120 is not a prime number.\n",
            "121 is not a prime number.\n",
            "122 is not a prime number.\n",
            "123 is not a prime number.\n",
            "124 is not a prime number.\n",
            "125 is not a prime number.\n",
            "126 is not a prime number.\n",
            "127 is a prime number.\n",
            "128 is not a prime number.\n",
            "129 is not a prime number.\n",
            "130 is not a prime number.\n",
            "131 is a prime number.\n",
            "132 is not a prime number.\n",
            "133 is not a prime number.\n",
            "134 is not a prime number.\n",
            "135 is not a prime number.\n",
            "136 is not a prime number.\n",
            "137 is a prime number.\n",
            "138 is not a prime number.\n",
            "139 is a prime number.\n",
            "140 is not a prime number.\n",
            "141 is not a prime number.\n",
            "142 is not a prime number.\n",
            "143 is not a prime number.\n",
            "144 is not a prime number.\n",
            "145 is not a prime number.\n",
            "146 is not a prime number.\n",
            "147 is not a prime number.\n",
            "148 is not a prime number.\n",
            "149 is a prime number.\n",
            "150 is not a prime number.\n",
            "151 is a prime number.\n",
            "152 is not a prime number.\n",
            "153 is not a prime number.\n",
            "154 is not a prime number.\n",
            "155 is not a prime number.\n",
            "156 is not a prime number.\n",
            "157 is a prime number.\n",
            "158 is not a prime number.\n",
            "159 is not a prime number.\n",
            "160 is not a prime number.\n",
            "161 is not a prime number.\n",
            "162 is not a prime number.\n",
            "163 is a prime number.\n",
            "164 is not a prime number.\n",
            "165 is not a prime number.\n",
            "166 is not a prime number.\n",
            "167 is a prime number.\n",
            "168 is not a prime number.\n",
            "169 is not a prime number.\n",
            "170 is not a prime number.\n",
            "171 is not a prime number.\n",
            "172 is not a prime number.\n",
            "173 is a prime number.\n",
            "174 is not a prime number.\n",
            "175 is not a prime number.\n",
            "176 is not a prime number.\n",
            "177 is not a prime number.\n",
            "178 is not a prime number.\n",
            "179 is a prime number.\n",
            "180 is not a prime number.\n",
            "181 is a prime number.\n",
            "182 is not a prime number.\n",
            "183 is not a prime number.\n",
            "184 is not a prime number.\n",
            "185 is not a prime number.\n",
            "186 is not a prime number.\n",
            "187 is not a prime number.\n",
            "188 is not a prime number.\n",
            "189 is not a prime number.\n",
            "190 is not a prime number.\n",
            "191 is a prime number.\n",
            "192 is not a prime number.\n",
            "193 is a prime number.\n",
            "194 is not a prime number.\n",
            "195 is not a prime number.\n",
            "196 is not a prime number.\n",
            "197 is a prime number.\n",
            "198 is not a prime number.\n",
            "199 is a prime number.\n",
            "200 is not a prime number.\n"
          ]
        }
      ]
    },
    {
      "cell_type": "code",
      "source": [
        "#5. \"Create an iterator class in Python that generates the Fibonacci sequence up to a specified number of\n",
        "\n",
        "def fibonacci_generator(terms):\n",
        "    a, b = 0, 1\n",
        "    for _ in range(terms):\n",
        "        yield a\n",
        "        a, b = b, a + b\n",
        "\n",
        "for num in fibonacci_generator(10):\n",
        "    print(num, end=\" \")\n",
        "print()"
      ],
      "metadata": {
        "colab": {
          "base_uri": "https://localhost:8080/"
        },
        "id": "bS4vCIv0qZ_C",
        "outputId": "a5e95f89-f8e4-488b-9106-c19e5debb3e5"
      },
      "execution_count": 15,
      "outputs": [
        {
          "output_type": "stream",
          "name": "stdout",
          "text": [
            "0 1 1 2 3 5 8 13 21 34 \n"
          ]
        }
      ]
    },
    {
      "cell_type": "code",
      "source": [
        "# 6. Write a generator function in Python that yields the powers of 2 up to a given exponent.\n",
        "\n",
        "def powers_of_two(max_exponent):\n",
        "\n",
        "    for exponent in range(max_exponent + 1):\n",
        "        yield 2 ** exponent\n",
        "\n",
        "# Example usage:\n",
        "for power in powers_of_two(5):\n",
        "    print(power)\n"
      ],
      "metadata": {
        "colab": {
          "base_uri": "https://localhost:8080/"
        },
        "id": "nVHf82BWryyM",
        "outputId": "5ae291cc-a335-4d10-afcd-a068d02ec93f"
      },
      "execution_count": 16,
      "outputs": [
        {
          "output_type": "stream",
          "name": "stdout",
          "text": [
            "1\n",
            "2\n",
            "4\n",
            "8\n",
            "16\n",
            "32\n"
          ]
        }
      ]
    },
    {
      "cell_type": "code",
      "source": [
        "# 7. Implement a generator function that reads a file line by line and yields each line as a string.\n",
        "\n",
        "# 7. Implement a generator function that reads a file line by line and yields each line as a string.\n",
        "\n",
        "\n",
        "def read_file_line_by_line(file_path):\n",
        "    try:\n",
        "        # Open the file in read mode\n",
        "        with open(file_path, 'r') as file:\n",
        "            for line in file:\n",
        "                # Yield each line as a string\n",
        "                yield line.strip()  # Stripping any extra whitespace\n",
        "    except FileNotFoundError:\n",
        "        print(\"Error: File not found.\")\n",
        "    except Exception as e:\n",
        "        print(f\"An error occurred: {e}\")\n",
        "\n",
        "# Example usage:\n",
        "file_path = \"example.txt\"  # Replace with the path to your file\n",
        "for line in read_file_line_by_line(file_path):\n",
        "    print(line)\n"
      ],
      "metadata": {
        "colab": {
          "base_uri": "https://localhost:8080/"
        },
        "id": "Pvv7X3WDsBqg",
        "outputId": "97326394-9091-4c59-dcd2-8956ab1d621b"
      },
      "execution_count": 17,
      "outputs": [
        {
          "output_type": "stream",
          "name": "stdout",
          "text": [
            "Error: File not found.\n"
          ]
        }
      ]
    },
    {
      "cell_type": "code",
      "source": [
        "# 8. Use a lambda function in Python to sort a list of tuples based on the second element of each tuple.\n",
        "\n",
        "\n",
        "tuples_list = [(1, 3), (4, 1), (2, 2), (5, 0)]\n",
        "sorted_list = sorted(tuples_list, key=lambda x: x[1])\n",
        "print(\"Sorted list based on the second element:\", sorted_list)\n"
      ],
      "metadata": {
        "colab": {
          "base_uri": "https://localhost:8080/"
        },
        "id": "Op0OHQdZsrR1",
        "outputId": "b282a27e-f9b3-45e3-c3d2-bb9be0f30f43"
      },
      "execution_count": 18,
      "outputs": [
        {
          "output_type": "stream",
          "name": "stdout",
          "text": [
            "Sorted list based on the second element: [(5, 0), (4, 1), (2, 2), (1, 3)]\n"
          ]
        }
      ]
    },
    {
      "cell_type": "code",
      "source": [
        "# List of temperatures in Celsius\n",
        "celsius_temperatures = [0, 10, 20, 30, 40, 100]\n",
        "fahrenheit_temperatures = set(map(lambda celsius: (celsius * 9/5) + 32, celsius_temperatures))\n",
        "print(\"Temperatures in Fahrenheit:\", fahrenheit_temperatures)\n"
      ],
      "metadata": {
        "colab": {
          "base_uri": "https://localhost:8080/"
        },
        "id": "-vhAICrktl_M",
        "outputId": "637b4a56-8ec0-42af-c2eb-30f765e54d8e"
      },
      "execution_count": 29,
      "outputs": [
        {
          "output_type": "stream",
          "name": "stdout",
          "text": [
            "Temperatures in Fahrenheit: {32.0, 68.0, 104.0, 50.0, 212.0, 86.0}\n"
          ]
        }
      ]
    },
    {
      "cell_type": "code",
      "source": [
        "\n",
        "# 10. Create a Python program that uses `filter()` to remove all the vowels from a given string.\n",
        "\n",
        "def remove_vowels(input_string):\n",
        "    # Define a lambda function to check if a character is not a vowel\n",
        "    return ''.join(filter(lambda char: char.lower() not in 'aeiou', input_string))\n",
        "\n",
        "# Example usage:\n",
        "example_string = \"saikat mondal\"\n",
        "result = remove_vowels(example_string)\n",
        "print(\"String without vowels:\", result)\n"
      ],
      "metadata": {
        "colab": {
          "base_uri": "https://localhost:8080/"
        },
        "id": "RToN1Mh8uck7",
        "outputId": "a00450f6-aeda-4874-ee58-635801a7ed33"
      },
      "execution_count": 32,
      "outputs": [
        {
          "output_type": "stream",
          "name": "stdout",
          "text": [
            "String without vowels: skt mndl\n"
          ]
        }
      ]
    },
    {
      "cell_type": "code",
      "source": [
        "# 11 List of orders\n",
        "orders = [\n",
        "    (34587, \"Learning Python, Mark Lutz\", 4, 40.95),\n",
        "    (98762, \"Programming Python, Mark Lutz\", 5, 56.80),\n",
        "    (77226, \"Head First Python, Paul Barry\", 3, 32.95),\n",
        "    (88112, \"Einführung in Python3, Bernd Klein\", 3, 24.99)\n",
        "]\n",
        "\n",
        "\n",
        "calculate_order_value = lambda order: (order[0], order[2] * order[3] + (10 if order[2] * order[3] < 100 else 0))\n",
        "\n",
        "\n",
        "order_totals = list(map(calculate_order_value, orders))\n",
        "\n",
        "\n",
        "print(order_totals)\n"
      ],
      "metadata": {
        "id": "ZVEDs1ldvnMc"
      },
      "execution_count": null,
      "outputs": []
    }
  ]
}